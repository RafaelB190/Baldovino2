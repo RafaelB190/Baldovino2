{
  "nbformat": 4,
  "nbformat_minor": 0,
  "metadata": {
    "colab": {
      "provenance": [],
      "toc_visible": true,
      "authorship_tag": "ABX9TyPPejqjW8nfZ3wKj6FV1LAd",
      "include_colab_link": true
    },
    "kernelspec": {
      "name": "python3",
      "display_name": "Python 3"
    },
    "language_info": {
      "name": "python"
    }
  },
  "cells": [
    {
      "cell_type": "markdown",
      "metadata": {
        "id": "view-in-github",
        "colab_type": "text"
      },
      "source": [
        "<a href=\"https://colab.research.google.com/github/RafaelB190/Baldovino2/blob/main/Anisacate_segura.ipynb\" target=\"_parent\"><img src=\"https://colab.research.google.com/assets/colab-badge.svg\" alt=\"Open In Colab\"/></a>"
      ]
    },
    {
      "cell_type": "code",
      "source": [
        "!pip install -q -U google-generativeai #para generar datos de la seguridad en la vecindad.\n",
        "!pip install matplotlib  #generar las imagenes sobre los incidentes en la zona.\n",
        "\n",
        "\n",
        "import google.generativeai as genai #importa gemini\n",
        "import matplotlib.pyplot as plt #genera la imagen necesaria\n",
        "import requests #necesario\n",
        "import os #necesario"
      ],
      "metadata": {
        "colab": {
          "base_uri": "https://localhost:8080/"
        },
        "id": "YgHI6JnEnSIm",
        "outputId": "35a58a04-2c36-43f7-9660-2b64ca4b2692"
      },
      "execution_count": 4,
      "outputs": [
        {
          "output_type": "stream",
          "name": "stdout",
          "text": [
            "Requirement already satisfied: matplotlib in /usr/local/lib/python3.10/dist-packages (3.7.1)\n",
            "Requirement already satisfied: contourpy>=1.0.1 in /usr/local/lib/python3.10/dist-packages (from matplotlib) (1.2.1)\n",
            "Requirement already satisfied: cycler>=0.10 in /usr/local/lib/python3.10/dist-packages (from matplotlib) (0.12.1)\n",
            "Requirement already satisfied: fonttools>=4.22.0 in /usr/local/lib/python3.10/dist-packages (from matplotlib) (4.53.1)\n",
            "Requirement already satisfied: kiwisolver>=1.0.1 in /usr/local/lib/python3.10/dist-packages (from matplotlib) (1.4.5)\n",
            "Requirement already satisfied: numpy>=1.20 in /usr/local/lib/python3.10/dist-packages (from matplotlib) (1.26.4)\n",
            "Requirement already satisfied: packaging>=20.0 in /usr/local/lib/python3.10/dist-packages (from matplotlib) (24.1)\n",
            "Requirement already satisfied: pillow>=6.2.0 in /usr/local/lib/python3.10/dist-packages (from matplotlib) (9.4.0)\n",
            "Requirement already satisfied: pyparsing>=2.3.1 in /usr/local/lib/python3.10/dist-packages (from matplotlib) (3.1.2)\n",
            "Requirement already satisfied: python-dateutil>=2.7 in /usr/local/lib/python3.10/dist-packages (from matplotlib) (2.8.2)\n",
            "Requirement already satisfied: six>=1.5 in /usr/local/lib/python3.10/dist-packages (from python-dateutil>=2.7->matplotlib) (1.16.0)\n"
          ]
        }
      ]
    },
    {
      "cell_type": "code",
      "execution_count": null,
      "metadata": {
        "id": "DakNHuffH5Na"
      },
      "outputs": [],
      "source": [
        "from google.colab import userdata\n",
        "\n",
        "# Configuración de la API de Gemini\n",
        "GOOGLE_API_KEY = userdata.get('gemini_API_key')\n",
        "genai.configure(api_key=GOOGLE_API_KEY)\n",
        "\n",
        "# Configuración del modelo de Gemini\n",
        "generation_config = {\n",
        "    \"temperature\": 1,\n",
        "    \"top_p\": 0.95,\n",
        "    \"top_k\": 64,\n",
        "    \"max_output_tokens\": 8192,\n",
        "    \"response_mime_type\": \"text/plain\",\n",
        "}\n",
        "\n",
        "model = genai.GenerativeModel(\n",
        "    model_name=\"gemini-1.5-flash\",\n",
        "    generation_config=generation_config,\n",
        "    system_instruction=(\n",
        "        \"eres lili un asistente de la app seguridad vecinal \"\n",
        "        \"y debes responder a los usuarios de la app preguntas sobre los incidentes \"\n",
        "        \"y seguridad de las zona (anisacate cordoba argentina). Recolectando información \"\n",
        "        \"de los distintos medios de comunicación y policía.\"\n",
        "    ),\n",
        ")\n",
        "\n",
        "# Historial de chat para mantener la conversación con Lili\n",
        "history_chat = []\n",
        "\n",
        "def chat():\n",
        "    chat_session = model.start_chat(history=history_chat)\n",
        "\n",
        "    print(\"Hola soy Lili, tu asistente de seguridad vecinal. ¿En qué te puedo ayudar?\")\n",
        "\n",
        "    while True:\n",
        "\n",
        "        if input(\"you: \").lower() == \"exit\":\n",
        "            print(\"Lili: ¡Hasta luego!\")\n",
        "            break\n",
        "\n",
        "\n",
        "        response = chat_session.send_message(input(\"you: \"))\n",
        "        print(\"Lili:\", response.text)\n",
        "\n",
        "        # Actualizar historial con la respuesta de Lili\n",
        "        history_chat.append({'role': 'user', 'parts': [input(\"you: \")]})\n",
        "        history_chat.append({'role': 'model', 'parts': [response.text]})\n",
        "\n",
        "        # Verificar si la respuesta de Lili requiere la generación de un gráfico\n",
        "        if \"incidentes\" in input(\"you: \").lower():\n",
        "            lili_response = chat_with_lili(input(\"you: \"))\n",
        "            print(\"Lili:\", lili_response)\n",
        "\n",
        "def chat_with_lili(user_input):\n",
        "    if \"incidentes\" in user_input:\n",
        "        # Aquí recolectas los datos necesarios, consultando la información de lili\n",
        "        incident_data = {\n",
        "            'Zona A': 10,\n",
        "            'Zona B': 15,\n",
        "            'Zona C': 7\n",
        "        }\n",
        "\n",
        "        # Genera el gráfico usando matplotlib\n",
        "        generate_incident_graph(incident_data)\n",
        "\n",
        "\n",
        "        return \"Aquí tienes un gráfico de la cantidad de incidentes por zona.\"\n",
        "    else:\n",
        "\n",
        "        return \"No entendí tu solicitud, ¿podrías ser más específico?\"\n",
        "\n",
        "def generate_incident_graph(incident_data):\n",
        "    # Datos para el gráfico\n",
        "    zonas = list(incident_data.keys())\n",
        "    cantidad_incidentes = list(incident_data.values())\n",
        "\n",
        "    # Generación del gráfico\n",
        "    plt.figure(figsize=(10, 5))\n",
        "    plt.bar(zonas, cantidad_incidentes, color='skyblue')\n",
        "    plt.title('Cantidad de Incidentes por Zona')\n",
        "    plt.xlabel('Zonas')\n",
        "    plt.ylabel('Cantidad de Incidentes')\n",
        "\n",
        "    # Guardar la imagen para mostrarla en el chat\n",
        "    plt.savefig('incident_graph.png')\n",
        "    plt.show()\n",
        "\n",
        "\n",
        "chat()\n"
      ]
    }
  ]
}