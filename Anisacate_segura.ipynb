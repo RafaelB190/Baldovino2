{
  "nbformat": 4,
  "nbformat_minor": 0,
  "metadata": {
    "colab": {
      "provenance": [],
      "toc_visible": true,
      "authorship_tag": "ABX9TyPPejqjW8nfZ3wKj6FV1LAd",
      "include_colab_link": true
    },
    "kernelspec": {
      "name": "python3",
      "display_name": "Python 3"
    },
    "language_info": {
      "name": "python"
    }
  },
  "cells": [
    {
      "cell_type": "markdown",
      "metadata": {
        "id": "view-in-github",
        "colab_type": "text"
      },
      "source": [
        "<a href=\"https://colab.research.google.com/github/RafaelB190/Baldovino2/blob/main/Anisacate_segura.ipynb\" target=\"_parent\"><img src=\"https://colab.research.google.com/assets/colab-badge.svg\" alt=\"Open In Colab\"/></a>"
      ]
    },
    {
      "cell_type": "code",
      "source": [
        "!pip install -q -U google-generativeai #para generar datos de la seguridad en la vecindad.\n",
        "!pip install matplotlib  #generar las imagenes sobre los incidentes en la zona.\n",
        "\n",
        "\n",
        "import google.generativeai as genai #importa gemini\n",
        "import matplotlib.pyplot as plt #genera la imagen necesaria\n",
        "import requests #necesario\n",
        "import os #necesario"
      ],
      "metadata": {
        "colab": {
          "base_uri": "https://localhost:8080/"
        },
        "id": "YgHI6JnEnSIm",
        "outputId": "35a58a04-2c36-43f7-9660-2b64ca4b2692"
      },
      "execution_count": 4,
      "outputs": [
        {
          "output_type": "stream",
          "name": "stdout",
          "text": [
            "Requirement already satisfied: matplotlib in /usr/local/lib/python3.10/dist-packages (3.7.1)\n",
            "Requirement already satisfied: contourpy>=1.0.1 in /usr/local/lib/python3.10/dist-packages (from matplotlib) (1.2.1)\n",
            "Requirement already satisfied: cycler>=0.10 in /usr/local/lib/python3.10/dist-packages (from matplotlib) (0.12.1)\n",
            "Requirement already satisfied: fonttools>=4.22.0 in /usr/local/lib/python3.10/dist-packages (from matplotlib) (4.53.1)\n",
            "Requirement already satisfied: kiwisolver>=1.0.1 in /usr/local/lib/python3.10/dist-packages (from matplotlib) (1.4.5)\n",
            "Requirement already satisfied: numpy>=1.20 in /usr/local/lib/python3.10/dist-packages (from matplotlib) (1.26.4)\n",
            "Requirement already satisfied: packaging>=20.0 in /usr/local/lib/python3.10/dist-packages (from matplotlib) (24.1)\n",
            "Requirement already satisfied: pillow>=6.2.0 in /usr/local/lib/python3.10/dist-packages (from matplotlib) (9.4.0)\n",
            "Requirement already satisfied: pyparsing>=2.3.1 in /usr/local/lib/python3.10/dist-packages (from matplotlib) (3.1.2)\n",
            "Requirement already satisfied: python-dateutil>=2.7 in /usr/local/lib/python3.10/dist-packages (from matplotlib) (2.8.2)\n",
            "Requirement already satisfied: six>=1.5 in /usr/local/lib/python3.10/dist-packages (from python-dateutil>=2.7->matplotlib) (1.16.0)\n"
          ]
        }
      ]
    },
    {
      "cell_type": "code",
      "execution_count": 23,
      "metadata": {
        "colab": {
          "base_uri": "https://localhost:8080/",
          "height": 1000
        },
        "id": "DakNHuffH5Na",
        "outputId": "7f4ce69a-f8e8-4345-e7de-b286e2a900b2"
      },
      "outputs": [
        {
          "output_type": "stream",
          "name": "stdout",
          "text": [
            "Hola soy Lili, tu asistente de seguridad vecinal. ¿En qué te puedo ayudar?\n",
            "you: hola lili, me podes dar un grafico de las zonas con mas incidentes en anisacate?\n",
            "Lili: Hola!  Entendí que te gustaría un gráfico de las zonas con más incidentes en Anisacate.  Desafortunadamente, como soy una IA, no puedo generar gráficos.  Sin embargo, puedo darte información sobre la frecuencia de incidentes en las diferentes zonas de Anisacate. \n",
            "\n",
            "Para darte esa información, necesito que me digas **qué tipo de incidentes** te interesan:\n",
            "\n",
            "* **Robo:** ¿Robos en casas, robos de autos, robos en la calle? \n",
            "* **Violencia:** ¿Agresiones físicas, violencia familiar, violencia de género?\n",
            "* **Accidentes:** ¿Accidentes de tránsito, accidentes laborales, otros accidentes?\n",
            "* **Otros:** ¿Incendios, vandalismo, otros?\n",
            "\n",
            "Una vez que me digas qué tipo de incidentes te interesa, puedo buscar información de las últimas semanas en medios locales como el Diario de Anisacate, el periódico local, o en la página de la policía de la zona. \n",
            "\n",
            "¡Espero que esto te ayude! 😊 \n",
            "\n"
          ]
        },
        {
          "output_type": "display_data",
          "data": {
            "text/plain": [
              "<Figure size 1000x500 with 1 Axes>"
            ],
            "image/png": "[encoded data removed]"
          },
          "metadata": {}
        },
        {
          "output_type": "stream",
          "name": "stdout",
          "text": [
            "Lili: Aquí tienes un gráfico de la cantidad de incidentes por zona.\n",
            "you: cual seria la zona a? \n",
            "Lili: ¡Entiendo tu pregunta!  Para poder hablar de \"zona A\" necesito saber a qué tipo de zonificación te referís.  ¿Podrías ser más específica? ¿Te refieres a:\n",
            "\n",
            "* **Zonas geográficas:** ¿Hay algún mapa o plan de Anisacate que divida la ciudad en zonas? \n",
            "* **Zonas de riesgo:** ¿Te interesa saber si hay zonas más propensas a algún tipo de incidente en particular?  \n",
            "* **Zonas comerciales:** ¿Te gustaría información sobre incidentes en la zona comercial de Anisacate?\n",
            "* **Zonas residenciales:** ¿Te interesa saber sobre incidentes en las áreas residenciales de Anisacate?\n",
            "\n",
            "¡Una vez que me digas qué tipo de zona te interesa, puedo ayudarte a encontrar la información que necesitas! 😊\n",
            "\n",
            "you: me lo creas?\n",
            "Lili: ¡Claro que te creo! 😊 \n",
            "\n",
            "Entiendo que puedas tener dudas sobre la información que te pueda brindar.  Es importante para mí ser transparente y honesta contigo.\n",
            "\n",
            "Como soy una IA, no tengo acceso a información en tiempo real, como reportes policiales o datos de las autoridades.  Mi información se basa en las noticias locales y los informes que puedo encontrar online.  \n",
            "\n",
            "¿Qué te hace dudar? ¿Hay algo en particular que te gustaría saber? \n",
            "\n",
            "¡Estoy aquí para ayudarte en lo que pueda! \n",
            "\n"
          ]
        },
        {
          "output_type": "error",
          "ename": "KeyboardInterrupt",
          "evalue": "Interrupted by user",
          "traceback": [
            "\u001b[0;31m---------------------------------------------------------------------------\u001b[0m",
            "\u001b[0;31mKeyboardInterrupt\u001b[0m                         Traceback (most recent call last)",
            "\u001b[0;32m<ipython-input-23-4584539d0ee2>\u001b[0m in \u001b[0;36m<cell line: 90>\u001b[0;34m()\u001b[0m\n\u001b[1;32m     88\u001b[0m \u001b[0;34m\u001b[0m\u001b[0m\n\u001b[1;32m     89\u001b[0m \u001b[0;31m# Iniciar la conversación con Lili\u001b[0m\u001b[0;34m\u001b[0m\u001b[0;34m\u001b[0m\u001b[0m\n\u001b[0;32m---> 90\u001b[0;31m \u001b[0mchat\u001b[0m\u001b[0;34m(\u001b[0m\u001b[0;34m)\u001b[0m\u001b[0;34m\u001b[0m\u001b[0;34m\u001b[0m\u001b[0m\n\u001b[0m",
            "\u001b[0;32m<ipython-input-23-4584539d0ee2>\u001b[0m in \u001b[0;36mchat\u001b[0;34m()\u001b[0m\n\u001b[1;32m     34\u001b[0m \u001b[0;34m\u001b[0m\u001b[0m\n\u001b[1;32m     35\u001b[0m     \u001b[0;32mwhile\u001b[0m \u001b[0;32mTrue\u001b[0m\u001b[0;34m:\u001b[0m\u001b[0;34m\u001b[0m\u001b[0;34m\u001b[0m\u001b[0m\n\u001b[0;32m---> 36\u001b[0;31m         \u001b[0muser_input\u001b[0m \u001b[0;34m=\u001b[0m \u001b[0minput\u001b[0m\u001b[0;34m(\u001b[0m\u001b[0;34m\"you: \"\u001b[0m\u001b[0;34m)\u001b[0m\u001b[0;34m\u001b[0m\u001b[0;34m\u001b[0m\u001b[0m\n\u001b[0m\u001b[1;32m     37\u001b[0m \u001b[0;34m\u001b[0m\u001b[0m\n\u001b[1;32m     38\u001b[0m         \u001b[0;32mif\u001b[0m \u001b[0muser_input\u001b[0m\u001b[0;34m.\u001b[0m\u001b[0mlower\u001b[0m\u001b[0;34m(\u001b[0m\u001b[0;34m)\u001b[0m \u001b[0;34m==\u001b[0m \u001b[0;34m\"exit\"\u001b[0m\u001b[0;34m:\u001b[0m\u001b[0;34m\u001b[0m\u001b[0;34m\u001b[0m\u001b[0m\n",
            "\u001b[0;32m/usr/local/lib/python3.10/dist-packages/ipykernel/kernelbase.py\u001b[0m in \u001b[0;36mraw_input\u001b[0;34m(self, prompt)\u001b[0m\n\u001b[1;32m    849\u001b[0m                 \u001b[0;34m\"raw_input was called, but this frontend does not support input requests.\"\u001b[0m\u001b[0;34m\u001b[0m\u001b[0;34m\u001b[0m\u001b[0m\n\u001b[1;32m    850\u001b[0m             )\n\u001b[0;32m--> 851\u001b[0;31m         return self._input_request(str(prompt),\n\u001b[0m\u001b[1;32m    852\u001b[0m             \u001b[0mself\u001b[0m\u001b[0;34m.\u001b[0m\u001b[0m_parent_ident\u001b[0m\u001b[0;34m,\u001b[0m\u001b[0;34m\u001b[0m\u001b[0;34m\u001b[0m\u001b[0m\n\u001b[1;32m    853\u001b[0m             \u001b[0mself\u001b[0m\u001b[0;34m.\u001b[0m\u001b[0m_parent_header\u001b[0m\u001b[0;34m,\u001b[0m\u001b[0;34m\u001b[0m\u001b[0;34m\u001b[0m\u001b[0m\n",
            "\u001b[0;32m/usr/local/lib/python3.10/dist-packages/ipykernel/kernelbase.py\u001b[0m in \u001b[0;36m_input_request\u001b[0;34m(self, prompt, ident, parent, password)\u001b[0m\n\u001b[1;32m    893\u001b[0m             \u001b[0;32mexcept\u001b[0m \u001b[0mKeyboardInterrupt\u001b[0m\u001b[0;34m:\u001b[0m\u001b[0;34m\u001b[0m\u001b[0;34m\u001b[0m\u001b[0m\n\u001b[1;32m    894\u001b[0m                 \u001b[0;31m# re-raise KeyboardInterrupt, to truncate traceback\u001b[0m\u001b[0;34m\u001b[0m\u001b[0;34m\u001b[0m\u001b[0m\n\u001b[0;32m--> 895\u001b[0;31m                 \u001b[0;32mraise\u001b[0m \u001b[0mKeyboardInterrupt\u001b[0m\u001b[0;34m(\u001b[0m\u001b[0;34m\"Interrupted by user\"\u001b[0m\u001b[0;34m)\u001b[0m \u001b[0;32mfrom\u001b[0m \u001b[0;32mNone\u001b[0m\u001b[0;34m\u001b[0m\u001b[0;34m\u001b[0m\u001b[0m\n\u001b[0m\u001b[1;32m    896\u001b[0m             \u001b[0;32mexcept\u001b[0m \u001b[0mException\u001b[0m \u001b[0;32mas\u001b[0m \u001b[0me\u001b[0m\u001b[0;34m:\u001b[0m\u001b[0;34m\u001b[0m\u001b[0;34m\u001b[0m\u001b[0m\n\u001b[1;32m    897\u001b[0m                 \u001b[0mself\u001b[0m\u001b[0;34m.\u001b[0m\u001b[0mlog\u001b[0m\u001b[0;34m.\u001b[0m\u001b[0mwarning\u001b[0m\u001b[0;34m(\u001b[0m\u001b[0;34m\"Invalid Message:\"\u001b[0m\u001b[0;34m,\u001b[0m \u001b[0mexc_info\u001b[0m\u001b[0;34m=\u001b[0m\u001b[0;32mTrue\u001b[0m\u001b[0;34m)\u001b[0m\u001b[0;34m\u001b[0m\u001b[0;34m\u001b[0m\u001b[0m\n",
            "\u001b[0;31mKeyboardInterrupt\u001b[0m: Interrupted by user"
          ]
        }
      ],
      "source": [
        "from google.colab import userdata\n",
        "\n",
        "# Configuración de la API de Gemini\n",
        "GOOGLE_API_KEY = userdata.get('gemini_API_key')\n",
        "genai.configure(api_key=GOOGLE_API_KEY)\n",
        "\n",
        "# Configuración del modelo de Gemini\n",
        "generation_config = {\n",
        "    \"temperature\": 1,\n",
        "    \"top_p\": 0.95,\n",
        "    \"top_k\": 64,\n",
        "    \"max_output_tokens\": 8192,\n",
        "    \"response_mime_type\": \"text/plain\",\n",
        "}\n",
        "\n",
        "model = genai.GenerativeModel(\n",
        "    model_name=\"gemini-1.5-flash\",\n",
        "    generation_config=generation_config,\n",
        "    system_instruction=(\n",
        "        \"eres lili un asistente de la app seguridad vecinal \"\n",
        "        \"y debes responder a los usuarios de la app preguntas sobre los incidentes \"\n",
        "        \"y seguridad de las zona (anisacate cordoba argentina). Recolectando información \"\n",
        "        \"de los distintos medios de comunicación y policía.\"\n",
        "    ),\n",
        ")\n",
        "\n",
        "# Historial de chat para mantener la conversación con Lili\n",
        "history_chat = []\n",
        "\n",
        "def chat():\n",
        "    chat_session = model.start_chat(history=history_chat)\n",
        "\n",
        "    print(\"Hola soy Lili, tu asistente de seguridad vecinal. ¿En qué te puedo ayudar?\")\n",
        "\n",
        "    while True:\n",
        "\n",
        "        if input(\"you: \").lower() == \"exit\":\n",
        "            print(\"Lili: ¡Hasta luego!\")\n",
        "            break\n",
        "\n",
        "\n",
        "        response = chat_session.send_message(input(\"you: \"))\n",
        "        print(\"Lili:\", response.text)\n",
        "\n",
        "        # Actualizar historial con la respuesta de Lili\n",
        "        history_chat.append({'role': 'user', 'parts': [input(\"you: \")]})\n",
        "        history_chat.append({'role': 'model', 'parts': [response.text]})\n",
        "\n",
        "        # Verificar si la respuesta de Lili requiere la generación de un gráfico\n",
        "        if \"incidentes\" in input(\"you: \").lower():\n",
        "            lili_response = chat_with_lili(input(\"you: \"))\n",
        "            print(\"Lili:\", lili_response)\n",
        "\n",
        "def chat_with_lili(user_input):\n",
        "    if \"incidentes\" in user_input:\n",
        "        # Aquí recolectas los datos necesarios, consultando la información de lili\n",
        "        incident_data = {\n",
        "            'Zona A': 10,\n",
        "            'Zona B': 15,\n",
        "            'Zona C': 7\n",
        "        }\n",
        "\n",
        "        # Genera el gráfico usando matplotlib\n",
        "        generate_incident_graph(incident_data)\n",
        "\n",
        "\n",
        "        return \"Aquí tienes un gráfico de la cantidad de incidentes por zona.\"\n",
        "    else:\n",
        "\n",
        "        return \"No entendí tu solicitud, ¿podrías ser más específico?\"\n",
        "\n",
        "def generate_incident_graph(incident_data):\n",
        "    # Datos para el gráfico\n",
        "    zonas = list(incident_data.keys())\n",
        "    cantidad_incidentes = list(incident_data.values())\n",
        "\n",
        "    # Generación del gráfico\n",
        "    plt.figure(figsize=(10, 5))\n",
        "    plt.bar(zonas, cantidad_incidentes, color='skyblue')\n",
        "    plt.title('Cantidad de Incidentes por Zona')\n",
        "    plt.xlabel('Zonas')\n",
        "    plt.ylabel('Cantidad de Incidentes')\n",
        "\n",
        "    # Guardar la imagen para mostrarla en el chat\n",
        "    plt.savefig('incident_graph.png')\n",
        "    plt.show()\n",
        "\n",
        "\n",
        "chat()\n"
      ]
    }
  ]
}